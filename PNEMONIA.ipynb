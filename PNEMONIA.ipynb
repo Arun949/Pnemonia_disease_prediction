{
 "cells": [
  {
   "cell_type": "code",
   "execution_count": 4,
   "id": "51d822e9",
   "metadata": {},
   "outputs": [],
   "source": [
    "from numpy import *\n",
    "from keras.layers import *\n",
    "from keras.utils import *"
   ]
  },
  {
   "cell_type": "code",
   "execution_count": 5,
   "id": "d442ea73",
   "metadata": {},
   "outputs": [],
   "source": [
    "from os import *"
   ]
  },
  {
   "cell_type": "code",
   "execution_count": 18,
   "id": "a16231aa",
   "metadata": {},
   "outputs": [],
   "source": [
    "x=listdir('chest_xray/train/')"
   ]
  },
  {
   "cell_type": "code",
   "execution_count": 19,
   "id": "abdc84cc",
   "metadata": {},
   "outputs": [
    {
     "data": {
      "text/plain": [
       "['NORMAL', 'PNEUMONIA']"
      ]
     },
     "execution_count": 19,
     "metadata": {},
     "output_type": "execute_result"
    }
   ],
   "source": [
    "x"
   ]
  },
  {
   "cell_type": "code",
   "execution_count": 20,
   "id": "0f4c7192",
   "metadata": {},
   "outputs": [],
   "source": [
    "train=[]\n",
    "label=[]"
   ]
  },
  {
   "cell_type": "code",
   "execution_count": 21,
   "id": "6b3b554c",
   "metadata": {},
   "outputs": [],
   "source": [
    "for i in listdir('chest_xray/train/'):\n",
    "    x='chest_xray/train/'+i+'/'\n",
    "    for j in listdir(x):\n",
    "        img=load_img(x+j,target_size=(100,100))\n",
    "        train.append(img_to_array(img))\n",
    "        if i=='NORMAL':\n",
    "            label.append(0)\n",
    "        else:\n",
    "            label.append(1)"
   ]
  },
  {
   "cell_type": "code",
   "execution_count": null,
   "id": "94eea017",
   "metadata": {},
   "outputs": [],
   "source": [
    "img=load_img('chest_xray\\train\\NORMAL\\NORMAL2-IM-1371-0001.jpeg',target_size=(100,100))"
   ]
  },
  {
   "cell_type": "code",
   "execution_count": null,
   "id": "63b95c95",
   "metadata": {},
   "outputs": [],
   "source": [
    "img"
   ]
  },
  {
   "cell_type": "code",
   "execution_count": 22,
   "id": "17b17564",
   "metadata": {},
   "outputs": [
    {
     "data": {
      "text/plain": [
       "array([[[22., 22., 22.],\n",
       "        [18., 18., 18.],\n",
       "        [25., 25., 25.],\n",
       "        ...,\n",
       "        [94., 94., 94.],\n",
       "        [93., 93., 93.],\n",
       "        [93., 93., 93.]],\n",
       "\n",
       "       [[19., 19., 19.],\n",
       "        [20., 20., 20.],\n",
       "        [14., 14., 14.],\n",
       "        ...,\n",
       "        [96., 96., 96.],\n",
       "        [93., 93., 93.],\n",
       "        [90., 90., 90.]],\n",
       "\n",
       "       [[20., 20., 20.],\n",
       "        [19., 19., 19.],\n",
       "        [15., 15., 15.],\n",
       "        ...,\n",
       "        [94., 94., 94.],\n",
       "        [91., 91., 91.],\n",
       "        [88., 88., 88.]],\n",
       "\n",
       "       ...,\n",
       "\n",
       "       [[29., 29., 29.],\n",
       "        [29., 29., 29.],\n",
       "        [29., 29., 29.],\n",
       "        ...,\n",
       "        [21., 21., 21.],\n",
       "        [23., 23., 23.],\n",
       "        [24., 24., 24.]],\n",
       "\n",
       "       [[30., 30., 30.],\n",
       "        [27., 27., 27.],\n",
       "        [27., 27., 27.],\n",
       "        ...,\n",
       "        [44., 44., 44.],\n",
       "        [47., 47., 47.],\n",
       "        [46., 46., 46.]],\n",
       "\n",
       "       [[38., 38., 38.],\n",
       "        [36., 36., 36.],\n",
       "        [36., 36., 36.],\n",
       "        ...,\n",
       "        [86., 86., 86.],\n",
       "        [88., 88., 88.],\n",
       "        [91., 91., 91.]]], dtype=float32)"
      ]
     },
     "execution_count": 22,
     "metadata": {},
     "output_type": "execute_result"
    }
   ],
   "source": [
    "train[0]"
   ]
  },
  {
   "cell_type": "code",
   "execution_count": 23,
   "id": "7a3c6f95",
   "metadata": {},
   "outputs": [],
   "source": [
    "train=array(train)"
   ]
  },
  {
   "cell_type": "code",
   "execution_count": 24,
   "id": "c747a4bc",
   "metadata": {},
   "outputs": [],
   "source": [
    "from matplotlib.pyplot import *"
   ]
  },
  {
   "cell_type": "code",
   "execution_count": 25,
   "id": "139c7dad",
   "metadata": {},
   "outputs": [
    {
     "name": "stderr",
     "output_type": "stream",
     "text": [
      "Clipping input data to the valid range for imshow with RGB data ([0..1] for floats or [0..255] for integers).\n"
     ]
    },
    {
     "data": {
      "text/plain": [
       "<matplotlib.image.AxesImage at 0x2377715ffd0>"
      ]
     },
     "execution_count": 25,
     "metadata": {},
     "output_type": "execute_result"
    },
    {
     "data": {
      "image/png": "[encoded data removed]",
      "text/plain": [
       "<Figure size 640x480 with 1 Axes>"
      ]
     },
     "metadata": {},
     "output_type": "display_data"
    }
   ],
   "source": [
    "imshow(train[0])"
   ]
  },
  {
   "cell_type": "code",
   "execution_count": 26,
   "id": "4523a4b1",
   "metadata": {},
   "outputs": [
    {
     "data": {
      "text/plain": [
       "(5216, 100, 100, 3)"
      ]
     },
     "execution_count": 26,
     "metadata": {},
     "output_type": "execute_result"
    }
   ],
   "source": [
    "train.shape"
   ]
  },
  {
   "cell_type": "code",
   "execution_count": 27,
   "id": "a7e1b58d",
   "metadata": {},
   "outputs": [],
   "source": [
    "train=train.reshape(5216,100*100*3)"
   ]
  },
  {
   "cell_type": "code",
   "execution_count": 28,
   "id": "7f79e05a",
   "metadata": {},
   "outputs": [],
   "source": [
    "train=train/255"
   ]
  },
  {
   "cell_type": "code",
   "execution_count": 29,
   "id": "c30bd025",
   "metadata": {},
   "outputs": [],
   "source": [
    "from sklearn.model_selection import train_test_split\n",
    "x_train,x_test,y_train,y_test=train_test_split(train,label,test_size=0.2,stratify=label)"
   ]
  },
  {
   "cell_type": "code",
   "execution_count": 30,
   "id": "3a096990",
   "metadata": {},
   "outputs": [],
   "source": [
    "y_train=to_categorical(y_train)"
   ]
  },
  {
   "cell_type": "code",
   "execution_count": null,
   "id": "56da0545",
   "metadata": {},
   "outputs": [],
   "source": [
    "from keras import *\n",
    "model=Sequential([\n",
    "    Dense(512,activation='relu',input_shape=(30000,)),\n",
    "    Dense(2,activation='softmax')\n",
    "])\n",
    "model.compile(optimizer='adam',metrics=['accuracy'],loss='binary_crossentropy')"
   ]
  },
  {
   "cell_type": "code",
   "execution_count": null,
   "id": "12750a00",
   "metadata": {},
   "outputs": [],
   "source": [
    "model.fit(x_train,y_train,epochs=15)"
   ]
  },
  {
   "cell_type": "code",
   "execution_count": null,
   "id": "146ef8fe",
   "metadata": {},
   "outputs": [],
   "source": [
    "model.summary()"
   ]
  },
  {
   "cell_type": "code",
   "execution_count": null,
   "id": "a6dba5a6",
   "metadata": {},
   "outputs": [],
   "source": [
    "model.evaluate(x_test,to_categorical(y_test))"
   ]
  },
  {
   "cell_type": "code",
   "execution_count": 31,
   "id": "a663e38b",
   "metadata": {},
   "outputs": [
    {
     "data": {
      "text/plain": [
       "<matplotlib.image.AxesImage at 0x2377752f090>"
      ]
     },
     "execution_count": 31,
     "metadata": {},
     "output_type": "execute_result"
    },
    {
     "data": {
      "image/png": "[encoded data removed]",
      "text/plain": [
       "<Figure size 640x480 with 1 Axes>"
      ]
     },
     "metadata": {},
     "output_type": "display_data"
    }
   ],
   "source": [
    "from matplotlib.pyplot import imshow\n",
    "imshow(train[0].reshape(100,100,3))"
   ]
  },
  {
   "cell_type": "code",
   "execution_count": 32,
   "id": "a7dc5038",
   "metadata": {},
   "outputs": [
    {
     "data": {
      "text/plain": [
       "<matplotlib.image.AxesImage at 0x237526b0710>"
      ]
     },
     "execution_count": 32,
     "metadata": {},
     "output_type": "execute_result"
    },
    {
     "data": {
      "image/png": "[encoded data removed]",
      "text/plain": [
       "<Figure size 640x480 with 1 Axes>"
      ]
     },
     "metadata": {},
     "output_type": "display_data"
    }
   ],
   "source": [
    "imshow(train[115].reshape(100,100,3))"
   ]
  },
  {
   "cell_type": "code",
   "execution_count": 34,
   "id": "5983435e",
   "metadata": {},
   "outputs": [],
   "source": [
    "from keras import *\n",
    "model1=Sequential([\n",
    "    Conv2D(32, kernel_size=(3,3), activation='relu', input_shape=(100,100,3)),\n",
    "    MaxPooling2D(pool_size=(2,2)),\n",
    "     Conv2D(64, kernel_size=(3,3), activation='relu'),\n",
    "    MaxPooling2D(pool_size=(2,2)),\n",
    "    Flatten(),\n",
    "    Dense(512,activation='relu'),\n",
    "    Dense(2,activation='softmax')\n",
    "])\n",
    "model1.compile(optimizer='adam',metrics=['accuracy'],loss='binary_crossentropy')"
   ]
  },
  {
   "cell_type": "code",
   "execution_count": 35,
   "id": "020838a3",
   "metadata": {},
   "outputs": [],
   "source": [
    "x_train=x_train.reshape(4172,100,100,3)"
   ]
  },
  {
   "cell_type": "code",
   "execution_count": 36,
   "id": "49bbaa43",
   "metadata": {},
   "outputs": [
    {
     "data": {
      "text/plain": [
       "(4172, 100, 100, 3)"
      ]
     },
     "execution_count": 36,
     "metadata": {},
     "output_type": "execute_result"
    }
   ],
   "source": [
    "x_train.shape"
   ]
  },
  {
   "cell_type": "code",
   "execution_count": 37,
   "id": "0a9fd6f6",
   "metadata": {},
   "outputs": [
    {
     "name": "stdout",
     "output_type": "stream",
     "text": [
      "Epoch 1/15\n",
      "131/131 [==============================] - 48s 345ms/step - loss: 0.2732 - accuracy: 0.9075\n",
      "Epoch 2/15\n",
      "131/131 [==============================] - 45s 341ms/step - loss: 0.0931 - accuracy: 0.9650\n",
      "Epoch 3/15\n",
      "131/131 [==============================] - 45s 342ms/step - loss: 0.0640 - accuracy: 0.9779\n",
      "Epoch 4/15\n",
      "131/131 [==============================] - 44s 336ms/step - loss: 0.0625 - accuracy: 0.9765\n",
      "Epoch 5/15\n",
      "131/131 [==============================] - 45s 340ms/step - loss: 0.0581 - accuracy: 0.9770\n",
      "Epoch 6/15\n",
      "131/131 [==============================] - 45s 340ms/step - loss: 0.0307 - accuracy: 0.9897\n",
      "Epoch 7/15\n",
      "131/131 [==============================] - 44s 337ms/step - loss: 0.0229 - accuracy: 0.9919\n",
      "Epoch 8/15\n",
      "131/131 [==============================] - 44s 337ms/step - loss: 0.0138 - accuracy: 0.9957\n",
      "Epoch 9/15\n",
      "131/131 [==============================] - 44s 337ms/step - loss: 0.0073 - accuracy: 0.9974\n",
      "Epoch 10/15\n",
      "131/131 [==============================] - 44s 339ms/step - loss: 0.0125 - accuracy: 0.9945\n",
      "Epoch 11/15\n",
      "131/131 [==============================] - 44s 339ms/step - loss: 0.0250 - accuracy: 0.9911\n",
      "Epoch 12/15\n",
      "131/131 [==============================] - 44s 339ms/step - loss: 0.0116 - accuracy: 0.9959\n",
      "Epoch 13/15\n",
      "131/131 [==============================] - 45s 342ms/step - loss: 0.0070 - accuracy: 0.9976\n",
      "Epoch 14/15\n",
      "131/131 [==============================] - 45s 347ms/step - loss: 0.0023 - accuracy: 0.9998\n",
      "Epoch 15/15\n",
      "131/131 [==============================] - 44s 337ms/step - loss: 0.0070 - accuracy: 0.9983\n"
     ]
    },
    {
     "data": {
      "text/plain": [
       "<keras.src.callbacks.History at 0x2377055cf90>"
      ]
     },
     "execution_count": 37,
     "metadata": {},
     "output_type": "execute_result"
    }
   ],
   "source": [
    "model1.fit(x_train,y_train,epochs=15)"
   ]
  },
  {
   "cell_type": "code",
   "execution_count": 39,
   "id": "85a80e38",
   "metadata": {},
   "outputs": [
    {
     "name": "stdout",
     "output_type": "stream",
     "text": [
      "INFO:tensorflow:Assets written to: arun\\assets\n"
     ]
    },
    {
     "name": "stderr",
     "output_type": "stream",
     "text": [
      "INFO:tensorflow:Assets written to: arun\\assets\n"
     ]
    }
   ],
   "source": [
    "model1.save('arun')"
   ]
  },
  {
   "cell_type": "code",
   "execution_count": null,
   "id": "38243cc2",
   "metadata": {},
   "outputs": [],
   "source": []
  }
 ],
 "metadata": {
  "kernelspec": {
   "display_name": "Python 3 (ipykernel)",
   "language": "python",
   "name": "python3"
  },
  "language_info": {
   "codemirror_mode": {
    "name": "ipython",
    "version": 3
   },
   "file_extension": ".py",
   "mimetype": "text/x-python",
   "name": "python",
   "nbconvert_exporter": "python",
   "pygments_lexer": "ipython3",
   "version": "3.11.3"
  }
 },
 "nbformat": 4,
 "nbformat_minor": 5
}
